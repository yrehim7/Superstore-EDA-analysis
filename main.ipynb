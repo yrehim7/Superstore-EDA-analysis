{
 "cells": [
  {
   "cell_type": "markdown",
   "metadata": {},
   "source": [
    "Set up the environment"
   ]
  },
  {
   "cell_type": "code",
   "execution_count": 1,
   "metadata": {},
   "outputs": [],
   "source": [
    "import pandas as pd\n",
    "import numpy as np\n",
    "import matplotlib.pyplot as plt\n",
    "import seaborn as sns"
   ]
  },
  {
   "cell_type": "code",
   "execution_count": 22,
   "metadata": {},
   "outputs": [],
   "source": [
    "df = pd.read_csv('mock_superstore_dataset.csv')"
   ]
  },
  {
   "cell_type": "code",
   "execution_count": 23,
   "metadata": {},
   "outputs": [
    {
     "name": "stdout",
     "output_type": "stream",
     "text": [
      "Dataset shape:  (998, 21)\n"
     ]
    }
   ],
   "source": [
    "print(\"Dataset shape: \", df.shape)"
   ]
  },
  {
   "cell_type": "markdown",
   "metadata": {},
   "source": [
    "View the data"
   ]
  },
  {
   "cell_type": "code",
   "execution_count": 24,
   "metadata": {},
   "outputs": [
    {
     "name": "stdout",
     "output_type": "stream",
     "text": [
      "\n",
      "Column Information:\n",
      "<class 'pandas.core.frame.DataFrame'>\n",
      "RangeIndex: 998 entries, 0 to 997\n",
      "Data columns (total 21 columns):\n",
      " #   Column         Non-Null Count  Dtype  \n",
      "---  ------         --------------  -----  \n",
      " 0   Row ID         998 non-null    int64  \n",
      " 1   Order ID       998 non-null    int64  \n",
      " 2   Order Date     998 non-null    object \n",
      " 3   Ship Date      998 non-null    object \n",
      " 4   Ship Mode      998 non-null    object \n",
      " 5   Customer ID    998 non-null    int64  \n",
      " 6   Customer Name  998 non-null    object \n",
      " 7   Segment        998 non-null    object \n",
      " 8   Country        998 non-null    object \n",
      " 9   City           998 non-null    object \n",
      " 10  State          165 non-null    object \n",
      " 11  Postal Code    474 non-null    object \n",
      " 12  Region         998 non-null    object \n",
      " 13  Product ID     998 non-null    int64  \n",
      " 14  Product Name   998 non-null    object \n",
      " 15  Sales          998 non-null    object \n",
      " 16  Category       998 non-null    object \n",
      " 17  Sub-Category   998 non-null    object \n",
      " 18  Quantity       998 non-null    int64  \n",
      " 19  Discount       998 non-null    float64\n",
      " 20  Profit         998 non-null    object \n",
      "dtypes: float64(1), int64(5), object(15)\n",
      "memory usage: 163.9+ KB\n",
      "None\n"
     ]
    }
   ],
   "source": [
    "print(\"\\nColumn Information:\")\n",
    "print(df.info())  # Data types and missing values"
   ]
  },
  {
   "cell_type": "code",
   "execution_count": 28,
   "metadata": {},
   "outputs": [
    {
     "name": "stdout",
     "output_type": "stream",
     "text": [
      "Column Inforamtions:\n",
      "<class 'pandas.core.frame.DataFrame'>\n",
      "RangeIndex: 998 entries, 0 to 997\n",
      "Data columns (total 21 columns):\n",
      " #   Column         Non-Null Count  Dtype  \n",
      "---  ------         --------------  -----  \n",
      " 0   Row ID         998 non-null    int64  \n",
      " 1   Order ID       998 non-null    int64  \n",
      " 2   Order Date     998 non-null    object \n",
      " 3   Ship Date      998 non-null    object \n",
      " 4   Ship Mode      998 non-null    object \n",
      " 5   Customer ID    998 non-null    int64  \n",
      " 6   Customer Name  998 non-null    object \n",
      " 7   Segment        998 non-null    object \n",
      " 8   Country        998 non-null    object \n",
      " 9   City           998 non-null    object \n",
      " 10  State          165 non-null    object \n",
      " 11  Postal Code    474 non-null    object \n",
      " 12  Region         998 non-null    object \n",
      " 13  Product ID     998 non-null    int64  \n",
      " 14  Product Name   998 non-null    object \n",
      " 15  Sales          998 non-null    object \n",
      " 16  Category       998 non-null    object \n",
      " 17  Sub-Category   998 non-null    object \n",
      " 18  Quantity       998 non-null    int64  \n",
      " 19  Discount       998 non-null    float64\n",
      " 20  Profit         998 non-null    object \n",
      "dtypes: float64(1), int64(5), object(15)\n",
      "memory usage: 163.9+ KB\n",
      "None\n"
     ]
    }
   ],
   "source": [
    "\n",
    "print(\"Column Inforamtions:\")\n",
    "print(df.info())"
   ]
  },
  {
   "cell_type": "code",
   "execution_count": 30,
   "metadata": {},
   "outputs": [
    {
     "name": "stdout",
     "output_type": "stream",
     "text": [
      "Summary Statistics:\n",
      "           Row ID     Order ID  Customer ID   Product ID    Quantity  \\\n",
      "count  998.000000   998.000000   998.000000   998.000000  998.000000   \n",
      "mean   499.500000  5634.105210  5738.059118  5422.319639   49.850701   \n",
      "std    288.242086  2616.442232  2633.311920  2606.549164   28.046650   \n",
      "min      1.000000  1003.000000  1017.000000  1009.000000    1.000000   \n",
      "25%    250.250000  3425.250000  3461.750000  3261.000000   27.000000   \n",
      "50%    499.500000  5705.000000  6008.000000  5369.500000   50.000000   \n",
      "75%    748.750000  7934.250000  7990.750000  7651.750000   73.000000   \n",
      "max    998.000000  9997.000000  9996.000000  9970.000000  100.000000   \n",
      "\n",
      "         Discount  \n",
      "count  998.000000  \n",
      "mean     0.246393  \n",
      "std      0.145035  \n",
      "min      0.000000  \n",
      "25%      0.120000  \n",
      "50%      0.240000  \n",
      "75%      0.370000  \n",
      "max      0.500000  \n"
     ]
    }
   ],
   "source": [
    "print(\"Summary Statistics:\")\n",
    "print(df.describe())"
   ]
  },
  {
   "cell_type": "code",
   "execution_count": 31,
   "metadata": {},
   "outputs": [
    {
     "name": "stdout",
     "output_type": "stream",
     "text": [
      "Missinf Values:\n",
      "Row ID             0\n",
      "Order ID           0\n",
      "Order Date         0\n",
      "Ship Date          0\n",
      "Ship Mode          0\n",
      "Customer ID        0\n",
      "Customer Name      0\n",
      "Segment            0\n",
      "Country            0\n",
      "City               0\n",
      "State            833\n",
      "Postal Code      524\n",
      "Region             0\n",
      "Product ID         0\n",
      "Product Name       0\n",
      "Sales              0\n",
      "Category           0\n",
      "Sub-Category       0\n",
      "Quantity           0\n",
      "Discount           0\n",
      "Profit             0\n",
      "dtype: int64\n"
     ]
    }
   ],
   "source": [
    "print(\"Missinf Values:\")\n",
    "print(df.isnull().sum())"
   ]
  },
  {
   "cell_type": "markdown",
   "metadata": {},
   "source": [
    "Handling missing values"
   ]
  },
  {
   "cell_type": "code",
   "execution_count": 44,
   "metadata": {},
   "outputs": [],
   "source": [
    "df.fillna(0, inplace=True)  # Fill missing values with the mean"
   ]
  },
  {
   "cell_type": "code",
   "execution_count": null,
   "metadata": {},
   "outputs": [],
   "source": []
  }
 ],
 "metadata": {
  "kernelspec": {
   "display_name": "Python 3",
   "language": "python",
   "name": "python3"
  },
  "language_info": {
   "codemirror_mode": {
    "name": "ipython",
    "version": 3
   },
   "file_extension": ".py",
   "mimetype": "text/x-python",
   "name": "python",
   "nbconvert_exporter": "python",
   "pygments_lexer": "ipython3",
   "version": "3.12.4"
  }
 },
 "nbformat": 4,
 "nbformat_minor": 2
}
